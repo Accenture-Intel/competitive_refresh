{
 "cells": [
  {
   "cell_type": "code",
   "execution_count": null,
   "id": "1dfbbf2b",
   "metadata": {},
   "outputs": [],
   "source": [
    "!pip install scikit-learn-intelex"
   ]
  },
  {
   "cell_type": "code",
   "execution_count": null,
   "id": "de1dd11a",
   "metadata": {},
   "outputs": [],
   "source": [
    "!unzip ML_2020Q3Mortage.zip"
   ]
  },
  {
   "cell_type": "code",
   "execution_count": null,
   "id": "c825d612",
   "metadata": {},
   "outputs": [],
   "source": [
    "# organize notebook format\n",
    "# To expand output so that it shows all data columns \n",
    "import pandas as pd\n",
    "import daal4py as d4p\n",
    "import numpy as np\n",
    "import time\n",
    "pd.set_option('display.max_rows', 500)\n",
    "pd.set_option('display.max_columns', 500)\n",
    "pd.set_option('display.width', 1000)\n",
    "\n",
    "# to hide warnings\n",
    "import warnings\n",
    "warnings.filterwarnings('ignore')"
   ]
  },
  {
   "cell_type": "code",
   "execution_count": null,
   "id": "2d1af594",
   "metadata": {},
   "outputs": [],
   "source": [
    "df_ml = pd.read_csv('ML_2020Q3Mortage.csv')"
   ]
  },
  {
   "cell_type": "code",
   "execution_count": null,
   "id": "d56a25a5",
   "metadata": {},
   "outputs": [],
   "source": [
    "df_ml"
   ]
  },
  {
   "cell_type": "code",
   "execution_count": null,
   "id": "876897fb",
   "metadata": {},
   "outputs": [],
   "source": [
    "#10% of full dataset to test daal model \n",
    "# train_dataset = df_ml.iloc[:277199,:]"
   ]
  },
  {
   "cell_type": "code",
   "execution_count": null,
   "id": "6a7c79a0",
   "metadata": {},
   "outputs": [],
   "source": [
    "from sklearn.model_selection import train_test_split\n",
    "from sklearn.ensemble import RandomForestRegressor\n",
    "from sklearn.metrics import mean_squared_error"
   ]
  },
  {
   "cell_type": "code",
   "execution_count": null,
   "id": "54c56756",
   "metadata": {},
   "outputs": [],
   "source": [
    "# split data to train/test\n",
    "X = df_ml.drop(['LOAN_ID','ORIG_UPB'], axis=1)\n",
    "y = df_ml.ORIG_UPB\n",
    "\n",
    "X_train, X_test, y_train, y_test = train_test_split(X, y, test_size=0.2, random_state=2)"
   ]
  },
  {
   "cell_type": "code",
   "execution_count": null,
   "id": "bd661773",
   "metadata": {},
   "outputs": [],
   "source": [
    "# delete unused further data to free up GPU memory\n",
    "del df_ml , X ,y"
   ]
  },
  {
   "cell_type": "code",
   "execution_count": null,
   "id": "37ffc65f",
   "metadata": {},
   "outputs": [],
   "source": [
    "d4p.daalinit()"
   ]
  },
  {
   "cell_type": "code",
   "execution_count": null,
   "id": "d4426694",
   "metadata": {},
   "outputs": [],
   "source": [
    "model = d4p.decision_forest_regression_training(nTrees=100)"
   ]
  },
  {
   "cell_type": "code",
   "execution_count": null,
   "id": "9347a7d6",
   "metadata": {},
   "outputs": [],
   "source": [
    "# model \n",
    "start_stock = time.time()\n",
    "reg = RandomForestRegressor().fit(X_train, y_train)\n",
    "end_stock = time.time() - start_stock\n",
    "print(\"Stock training time: \", end_stock)"
   ]
  },
  {
   "cell_type": "code",
   "execution_count": null,
   "id": "0ef8674e",
   "metadata": {},
   "outputs": [],
   "source": [
    "start_pred = time.time()\n",
    "reg.predict(X_test)\n",
    "end_pred = time.time() - start_pred\n",
    "print('Stock pred time: ', end_pred)"
   ]
  },
  {
   "cell_type": "code",
   "execution_count": null,
   "id": "53cc021a",
   "metadata": {},
   "outputs": [],
   "source": [
    "# optimized model \n",
    "start = time.time()\n",
    "train_result = model.compute(X_train, y_train)\n",
    "end = time.time() - start\n",
    "print(\"Intel optimized training time: \", end)"
   ]
  },
  {
   "cell_type": "code",
   "execution_count": null,
   "id": "0bca8e78",
   "metadata": {},
   "outputs": [],
   "source": [
    "start_pred = time.time()\n",
    "pred_algo = d4p.decision_forest_regression_prediction(fptype='float')\n",
    "predict_res = pred_algo.compute(X_test, train_result.model)\n",
    "end_pred = time.time() - start_pred\n",
    "print('Intel pred time: ', end_pred)"
   ]
  }
 ],
 "metadata": {
  "kernelspec": {
   "display_name": "Python 3 (ipykernel)",
   "language": "python",
   "name": "python3"
  },
  "language_info": {
   "codemirror_mode": {
    "name": "ipython",
    "version": 3
   },
   "file_extension": ".py",
   "mimetype": "text/x-python",
   "name": "python",
   "nbconvert_exporter": "python",
   "pygments_lexer": "ipython3",
   "version": "3.9.12"
  }
 },
 "nbformat": 4,
 "nbformat_minor": 5
}
