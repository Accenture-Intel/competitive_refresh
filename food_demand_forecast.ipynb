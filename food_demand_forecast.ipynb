{
 "cells": [
  {
   "cell_type": "code",
   "execution_count": null,
   "id": "1333d9fa",
   "metadata": {
    "scrolled": true
   },
   "outputs": [],
   "source": [
    "! pip install xgboost category_encoders daal4py"
   ]
  },
  {
   "cell_type": "code",
   "execution_count": 1,
   "id": "5467ffa7",
   "metadata": {},
   "outputs": [
    {
     "name": "stderr",
     "output_type": "stream",
     "text": [
      "/usr/local/lib/python3.6/dist-packages/pkg_resources/__init__.py:119: PkgResourcesDeprecationWarning: 0.18ubuntu0.18.04.1 is an invalid version and will not be supported in a future release\n",
      "  PkgResourcesDeprecationWarning,\n"
     ]
    }
   ],
   "source": [
    "import numpy as np \n",
    "import pandas as pd \n",
    "import xgboost as xgb\n",
    "import daal4py as d4p\n",
    "import time "
   ]
  },
  {
   "cell_type": "code",
   "execution_count": 2,
   "id": "36280ee3",
   "metadata": {},
   "outputs": [
    {
     "name": "stdout",
     "output_type": "stream",
     "text": [
      "Done.\n"
     ]
    }
   ],
   "source": [
    "train = pd.read_csv('train.csv')\n",
    "test = pd.read_csv('test.csv')\n",
    "meal= pd.read_csv('meal_info.csv')\n",
    "ful = pd.read_csv('fulfilment_center_info.csv')\n",
    "sub = pd.read_csv('sample_submission.csv')\n",
    "print('Done.')"
   ]
  },
  {
   "cell_type": "code",
   "execution_count": 4,
   "id": "106bf4f3",
   "metadata": {},
   "outputs": [
    {
     "name": "stdout",
     "output_type": "stream",
     "text": [
      "train shape (456548, 9)\n",
      "test shape (32573, 8)\n",
      "meal shape (51, 3)\n",
      "fulfillment shape (77, 5)\n"
     ]
    }
   ],
   "source": [
    "print('train shape',train.shape)\n",
    "print('test shape',test.shape)\n",
    "print('meal shape',meal.shape)\n",
    "print('fulfillment shape',ful.shape)"
   ]
  },
  {
   "cell_type": "code",
   "execution_count": 5,
   "id": "70dd9f00",
   "metadata": {},
   "outputs": [
    {
     "name": "stdout",
     "output_type": "stream",
     "text": [
      "The shape of the combined dataframe is: (489121, 9)\n"
     ]
    }
   ],
   "source": [
    "# combine both train and test, then merge ful and meal to the data .\n",
    "ntrain = train.shape[0]\n",
    "ntest = test.shape[0]\n",
    "all_data = pd.concat((train,test)).reset_index(drop=True)\n",
    "print(f'The shape of the combined dataframe is: {all_data.shape}')"
   ]
  },
  {
   "cell_type": "code",
   "execution_count": 6,
   "id": "b1d76949",
   "metadata": {},
   "outputs": [],
   "source": [
    "data = pd.merge(all_data, meal, on=\"meal_id\", how=\"outer\")\n",
    "data = pd.merge(data, ful, on=\"center_id\", how=\"outer\")"
   ]
  },
  {
   "cell_type": "code",
   "execution_count": 7,
   "id": "d98ac500",
   "metadata": {},
   "outputs": [],
   "source": [
    "train = data[:ntrain].copy()\n",
    "test = data[ntrain:].copy()"
   ]
  },
  {
   "cell_type": "code",
   "execution_count": 8,
   "id": "d21c5140",
   "metadata": {},
   "outputs": [
    {
     "data": {
      "text/plain": [
       "((456548, 15), (32573, 15))"
      ]
     },
     "execution_count": 8,
     "metadata": {},
     "output_type": "execute_result"
    }
   ],
   "source": [
    "train.shape,test.shape"
   ]
  },
  {
   "cell_type": "code",
   "execution_count": 9,
   "id": "29da9aa1",
   "metadata": {},
   "outputs": [],
   "source": [
    "train.drop(columns =['center_id','meal_id'],inplace=True)\n",
    "test.drop(columns =['center_id','meal_id'],inplace=True)"
   ]
  },
  {
   "cell_type": "code",
   "execution_count": 10,
   "id": "770d89a7",
   "metadata": {},
   "outputs": [
    {
     "data": {
      "text/plain": [
       "['category', 'cuisine', 'center_type']"
      ]
     },
     "execution_count": 10,
     "metadata": {},
     "output_type": "execute_result"
    }
   ],
   "source": [
    "from sklearn.compose import make_column_selector as selector\n",
    "categorical_columns_selector = selector(dtype_include=object)\n",
    "categorical_columns = categorical_columns_selector(train)\n",
    "categorical_columns"
   ]
  },
  {
   "cell_type": "code",
   "execution_count": 11,
   "id": "17a92aa4",
   "metadata": {},
   "outputs": [
    {
     "name": "stdout",
     "output_type": "stream",
     "text": [
      "The shape of the combined dataframe is: (489121, 13)\n"
     ]
    }
   ],
   "source": [
    "# combine both train and test, then merge ful and meal to the data .\n",
    "ntrain = train.shape[0]\n",
    "ntest = test.shape[0]\n",
    "all_data = pd.concat((train,test)).reset_index(drop=True)\n",
    "print(f'The shape of the combined dataframe is: {all_data.shape}')"
   ]
  },
  {
   "cell_type": "code",
   "execution_count": 12,
   "id": "8ade16f0",
   "metadata": {},
   "outputs": [],
   "source": [
    "import category_encoders as ce\n",
    "from sklearn.model_selection import train_test_split\n",
    "\n",
    "X_train, X_test, y_train, y_test = train_test_split(all_data, all_data['num_orders'], test_size=0.3,\n",
    "                                                    random_state=0)\n",
    "X_train.shape, X_test.shape\n",
    "\n",
    "ord_enc = ce.OrdinalEncoder(cols=['category', 'cuisine', 'center_type']).fit(X_train,y_train)\n",
    "\n",
    "\n",
    "data = ord_enc.transform(all_data)\n",
    "data.head()\n",
    "\n",
    "main_cols =data.columns.difference(['num_orders'])"
   ]
  },
  {
   "cell_type": "code",
   "execution_count": 13,
   "id": "91f49d89",
   "metadata": {},
   "outputs": [],
   "source": [
    "train = data[:ntrain].copy()\n",
    "#train.drop_duplicates(inplace = True, ignore_index=True)\n",
    "target = train.num_orders.copy()\n",
    "train.drop(['num_orders','id'] ,axis=1, inplace=True)\n",
    "\n",
    "test = data[ntrain:].copy()\n",
    "test.drop(['num_orders','id'] ,axis=1, inplace=True)\n",
    "test = test.reset_index(drop=True)"
   ]
  },
  {
   "cell_type": "code",
   "execution_count": 14,
   "id": "cb2ae961",
   "metadata": {},
   "outputs": [],
   "source": [
    "target = target.fillna(target.mean())"
   ]
  },
  {
   "cell_type": "code",
   "execution_count": 51,
   "id": "f5da459e",
   "metadata": {},
   "outputs": [],
   "source": [
    "train = train.rename(columns={'week':1, 'checkout_price':2, 'base_price':3, 'emailer_for_promotion':4,\n",
    "       'homepage_featured':5, 'category':6, 'cuisine':7, 'city_code':8, 'region_code':9,\n",
    "       'center_type':10, 'op_area':11})"
   ]
  },
  {
   "cell_type": "code",
   "execution_count": 52,
   "id": "13108e74",
   "metadata": {},
   "outputs": [
    {
     "data": {
      "text/plain": [
       "Int64Index([1, 2, 3, 4, 5, 6, 7, 8, 9, 10, 11], dtype='int64')"
      ]
     },
     "execution_count": 52,
     "metadata": {},
     "output_type": "execute_result"
    }
   ],
   "source": [
    "train.columns"
   ]
  },
  {
   "cell_type": "code",
   "execution_count": 53,
   "id": "eae88a79",
   "metadata": {},
   "outputs": [
    {
     "data": {
      "text/plain": [
       "((319583, 11), (319583,))"
      ]
     },
     "execution_count": 53,
     "metadata": {},
     "output_type": "execute_result"
    }
   ],
   "source": [
    "from sklearn.model_selection import train_test_split\n",
    "X_train, X_val, y_train, y_val = train_test_split(train, target, test_size = 0.30)\n",
    "\n",
    "X_train.shape,y_train.shape"
   ]
  },
  {
   "cell_type": "code",
   "execution_count": 54,
   "id": "c5a3a4b4",
   "metadata": {},
   "outputs": [],
   "source": [
    "clf = xgb.XGBClassifier(n_estimators=1000, max_depth=7, eta=0.1, subsample=0.7, colsample_bytree=0.8)\n",
    "reg = xgb.XGBRegressor(n_estimators=1000, max_depth=7, eta=0.1, subsample=0.7, colsample_bytree=0.8)\n",
    "\n",
    "results = pd.DataFrame(columns=[\"Regressor\", \"Train Time\", \"Stock Inference Time\", \"Daal Inference Time\"])"
   ]
  },
  {
   "cell_type": "code",
   "execution_count": 57,
   "id": "1668236b",
   "metadata": {},
   "outputs": [
    {
     "data": {
      "text/html": [
       "<div>\n",
       "<style scoped>\n",
       "    .dataframe tbody tr th:only-of-type {\n",
       "        vertical-align: middle;\n",
       "    }\n",
       "\n",
       "    .dataframe tbody tr th {\n",
       "        vertical-align: top;\n",
       "    }\n",
       "\n",
       "    .dataframe thead th {\n",
       "        text-align: right;\n",
       "    }\n",
       "</style>\n",
       "<table border=\"1\" class=\"dataframe\">\n",
       "  <thead>\n",
       "    <tr style=\"text-align: right;\">\n",
       "      <th></th>\n",
       "      <th>Regressor</th>\n",
       "      <th>Train Time</th>\n",
       "      <th>Stock Inference Time</th>\n",
       "      <th>Daal Inference Time</th>\n",
       "    </tr>\n",
       "  </thead>\n",
       "  <tbody>\n",
       "    <tr>\n",
       "      <th>0</th>\n",
       "      <td>XGBoost</td>\n",
       "      <td>59.84019</td>\n",
       "      <td>0.465919</td>\n",
       "      <td>0.253114</td>\n",
       "    </tr>\n",
       "  </tbody>\n",
       "</table>\n",
       "</div>"
      ],
      "text/plain": [
       "  Regressor  Train Time  Stock Inference Time  Daal Inference Time\n",
       "0   XGBoost    59.84019              0.465919             0.253114"
      ]
     },
     "execution_count": 57,
     "metadata": {},
     "output_type": "execute_result"
    }
   ],
   "source": [
    "start = time.time()\n",
    "xgb_model = reg.fit(X_train, y_train)\n",
    "train_time = time.time()-start\n",
    "\n",
    "\n",
    "daal_model = d4p.get_gbt_model_from_xgboost(xgb_model.get_booster())\n",
    "daal_start = time.time()\n",
    "d4p.gbt_regression_prediction().compute(X_val, daal_model)\n",
    "daal_time = time.time()-daal_start\n",
    "\n",
    "pred_start = time.time()\n",
    "pred = xgb_model.predict(X_val)\n",
    "pred_time = time.time()-pred_start\n",
    "\n",
    "df2 = pd.DataFrame({\"Regressor\": \"XGBoost\",\"Train Time\": train_time,\"Stock Inference Time\": pred_time, \"Daal Inference Time\" : daal_time}, index = [0])\n",
    "results = results.append(df2, ignore_index = True)\n",
    "results"
   ]
  },
  {
   "cell_type": "code",
   "execution_count": null,
   "id": "4a9c6b76",
   "metadata": {},
   "outputs": [],
   "source": []
  }
 ],
 "metadata": {
  "kernelspec": {
   "display_name": "Python 3",
   "language": "python",
   "name": "python3"
  },
  "language_info": {
   "codemirror_mode": {
    "name": "ipython",
    "version": 3
   },
   "file_extension": ".py",
   "mimetype": "text/x-python",
   "name": "python",
   "nbconvert_exporter": "python",
   "pygments_lexer": "ipython3",
   "version": "3.6.9"
  }
 },
 "nbformat": 4,
 "nbformat_minor": 5
}
